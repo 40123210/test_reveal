{
 "cells": [
  {
   "cell_type": "code",
   "execution_count": 1,
   "metadata": {
    "collapsed": false,
    "run_control": {
     "read_only": false
    }
   },
   "outputs": [
    {
     "name": "stdout",
     "output_type": "stream",
     "text": [
      "請輸入您所猜的整數:50\n",
      "太大了，再猜一次 :)加油\n",
      "請輸入您所猜的整數:25\n",
      "太大了，再猜一次 :)加油\n",
      "請輸入您所猜的整數:15\n",
      "太小了，再猜一次 :)加油\n",
      "請輸入您所猜的整數:20\n",
      "太大了，再猜一次 :)加油\n",
      "請輸入您所猜的整數:18\n",
      "太大了，再猜一次 :)加油\n",
      "請輸入您所猜的整數:17\n",
      "太大了，再猜一次 :)加油\n",
      "請輸入您所猜的整數:16\n",
      "猜對了！總共猜了 7 次\n"
     ]
    }
   ],
   "source": [
    "#coding: utf-8\n",
    "# 猜數字遊戲\n",
    "import random\n",
    "   \n",
    "標準答案 = random.randint(1, 100)\n",
    "#print(標準答案)\n",
    "你猜的數字 = int(input(\"請輸入您所猜的整數:\"))\n",
    "猜測次數 = 1\n",
    "while 標準答案 != 你猜的數字:\n",
    "    if 標準答案 < 你猜的數字:\n",
    "        print(\"太大了，再猜一次 :)加油\")\n",
    "    else:\n",
    "        print(\"太小了，再猜一次 :)加油\")\n",
    "    你猜的數字 = int(input(\"請輸入您所猜的整數:\"))\n",
    "    猜測次數 += 1\n",
    "   \n",
    "print(\"猜對了！總共猜了\", 猜測次數, \"次\")"
   ]
  },
  {
   "cell_type": "code",
   "execution_count": null,
   "metadata": {
    "collapsed": true
   },
   "outputs": [],
   "source": []
  }
 ],
 "metadata": {
  "kernelspec": {
   "display_name": "Python 3",
   "language": "python",
   "name": "python3"
  },
  "language_info": {
   "codemirror_mode": {
    "name": "ipython",
    "version": 3
   },
   "file_extension": ".py",
   "mimetype": "text/x-python",
   "name": "python",
   "nbconvert_exporter": "python",
   "pygments_lexer": "ipython3",
   "version": "3.4.3"
  }
 },
 "nbformat": 4,
 "nbformat_minor": 0
}

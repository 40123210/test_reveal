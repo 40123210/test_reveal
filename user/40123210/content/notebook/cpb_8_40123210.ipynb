{
 "cells": [
  {
   "cell_type": "code",
   "execution_count": 1,
   "metadata": {
    "collapsed": false,
    "run_control": {
     "read_only": false
    }
   },
   "outputs": [
    {
     "name": "stdout",
     "output_type": "stream",
     "text": [
      "15 120\n"
     ]
    }
   ],
   "source": [
    "def sum10(x):\n",
    "    sum = 0\n",
    "    for i in range(1, x+1):\n",
    "        sum = sum + i\n",
    "    return sum\n",
    "print(sum10(5),sum10(15))"
   ]
  },
  {
   "cell_type": "code",
   "execution_count": 2,
   "metadata": {
    "collapsed": false
   },
   "outputs": [
    {
     "name": "stdout",
     "output_type": "stream",
     "text": [
      "15 120\n"
     ]
    }
   ],
   "source": [
    "def sum10(x):\n",
    "    sum = 0\n",
    "    for i in range(1, x+1):\n",
    "        sum = sum + i\n",
    "    return sum\n",
    "\n",
    "y = sum10(5)\n",
    "z = sum10(15)\n",
    "\n",
    "print(y,z)\n"
   ]
  },
  {
   "cell_type": "code",
   "execution_count": 3,
   "metadata": {
    "collapsed": false
   },
   "outputs": [
    {
     "name": "stdout",
     "output_type": "stream",
     "text": [
      "55 465\n",
      "0.136607961848912\n"
     ]
    }
   ],
   "source": [
    "import random\n",
    "\n",
    "def sum10(x):\n",
    "    sum = 0\n",
    "    for i in range(1, x+1):\n",
    "        sum = sum + i\n",
    "    return sum\n",
    "\n",
    "y = sum10(10)\n",
    "z = sum10(30)\n",
    "\n",
    "print(y,z)\n",
    "\n",
    "print(random.random())"
   ]
  },
  {
   "cell_type": "code",
   "execution_count": null,
   "metadata": {
    "collapsed": true
   },
   "outputs": [],
   "source": []
  }
 ],
 "metadata": {
  "kernelspec": {
   "display_name": "Python 3",
   "language": "python",
   "name": "python3"
  },
  "language_info": {
   "codemirror_mode": {
    "name": "ipython",
    "version": 3
   },
   "file_extension": ".py",
   "mimetype": "text/x-python",
   "name": "python",
   "nbconvert_exporter": "python",
   "pygments_lexer": "ipython3",
   "version": "3.4.3"
  }
 },
 "nbformat": 4,
 "nbformat_minor": 0
}

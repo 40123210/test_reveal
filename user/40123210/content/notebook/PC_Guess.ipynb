{
 "cells": [
  {
   "cell_type": "code",
   "execution_count": 2,
   "metadata": {
    "collapsed": false,
    "run_control": {
     "read_only": false
    }
   },
   "outputs": [
    {
     "name": "stdout",
     "output_type": "stream",
     "text": [
      "猜對了！總共猜了 9 次\n",
      "猜對了！總共猜了 7 次\n",
      "猜對了！總共猜了 5 次\n",
      "猜對了！總共猜了 6 次\n",
      "猜對了！總共猜了 5 次\n",
      "猜對了！總共猜了 6 次\n",
      "猜對了！總共猜了 12 次\n",
      "猜對了！總共猜了 5 次\n",
      "猜對了！總共猜了 10 次\n",
      "猜對了！總共猜了 11 次\n",
      "平均次數 7\n"
     ]
    }
   ],
   "source": [
    "#coding: utf-8\n",
    "# 猜數字遊戲\n",
    "import random\n",
    "執行次數 = 10\n",
    "總猜測次數 = 0\n",
    "for i in range(執行次數):\n",
    "    下限 = 1\n",
    "    上限 = 100\n",
    "    標準答案 = random.randint(下限, 上限)\n",
    "    PC猜的數字 = random.randint(下限, 上限)\n",
    "    猜測次數 = 1\n",
    "    while 標準答案 != PC猜的數字:\n",
    "        if 標準答案 < PC猜的數字:\n",
    "            上限 = PC猜的數字\n",
    "        else:\n",
    "            下限 = PC猜的數字\n",
    "        PC猜的數字 = random.randint(下限, 上限)\n",
    "        猜測次數 += 1\n",
    "    print(\"猜對了！總共猜了\", 猜測次數, \"次\")\n",
    "    總猜測次數 += 猜測次數\n",
    "平均猜測次數 = int(總猜測次數/執行次數)\n",
    "print(\"平均次數\",平均猜測次數)"
   ]
  },
  {
   "cell_type": "code",
   "execution_count": null,
   "metadata": {
    "collapsed": true
   },
   "outputs": [],
   "source": []
  }
 ],
 "metadata": {
  "kernelspec": {
   "display_name": "Python 3",
   "language": "python",
   "name": "python3"
  },
  "language_info": {
   "codemirror_mode": {
    "name": "ipython",
    "version": 3
   },
   "file_extension": ".py",
   "mimetype": "text/x-python",
   "name": "python",
   "nbconvert_exporter": "python",
   "pygments_lexer": "ipython3",
   "version": "3.4.3"
  }
 },
 "nbformat": 4,
 "nbformat_minor": 0
}

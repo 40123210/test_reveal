{
 "cells": [
  {
   "cell_type": "code",
   "execution_count": 1,
   "metadata": {
    "collapsed": false,
    "run_control": {
     "read_only": false
    }
   },
   "outputs": [
    {
     "name": "stdout",
     "output_type": "stream",
     "text": [
      "40123210-蔡依靜\n",
      "40123157-盧毅民\n",
      "40123254-鍾文榮\n"
     ]
    }
   ],
   "source": [
    "g10_number = [\"40123210\",\"40123157\",\"40123254\"]\n",
    "g10_name = [\"蔡依靜\",\"盧毅民\",\"鍾文榮\"]\n",
    "\n",
    "for i in range (len(g10_number)):\n",
    "    print(g10_number[i],g10_name[i],sep = \"-\")"
   ]
  },
  {
   "cell_type": "code",
   "execution_count": null,
   "metadata": {
    "collapsed": true
   },
   "outputs": [],
   "source": []
  }
 ],
 "metadata": {
  "kernelspec": {
   "display_name": "Python 3",
   "language": "python",
   "name": "python3"
  },
  "language_info": {
   "codemirror_mode": {
    "name": "ipython",
    "version": 3
   },
   "file_extension": ".py",
   "mimetype": "text/x-python",
   "name": "python",
   "nbconvert_exporter": "python",
   "pygments_lexer": "ipython3",
   "version": "3.4.3"
  }
 },
 "nbformat": 4,
 "nbformat_minor": 0
}
